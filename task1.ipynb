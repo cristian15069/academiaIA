{
  "nbformat": 4,
  "nbformat_minor": 0,
  "metadata": {
    "colab": {
      "provenance": [],
      "authorship_tag": "ABX9TyPd2fXUy79Jz/cnDTOvSoyj"
    },
    "kernelspec": {
      "name": "python3",
      "display_name": "Python 3"
    },
    "language_info": {
      "name": "python"
    }
  },
  "cells": [
    {
      "cell_type": "markdown",
      "source": [
        "Ejercicio 1 - **Conceptos **\n",
        "\n",
        "La Inteligencia Artificial, desde mi punto de vista, es el intento de hacer que una máquina piense y tome decisiones como lo haría una persona, aunque sea en tareas específicas.\n",
        "\n",
        "El Machine Learning es lo que realmente le da esa capacidad de aprender, porque le permite reconocer patrones en datos sin que uno tenga que decirle paso a paso qué hacer.\n",
        "\n",
        "El Procesamiento de Lenguaje Natural es la parte que más se parece a cómo hablamos nosotros. Trata de que las máquinas entiendan lo que decimos, cómo lo decimos y hasta lo que realmente queremos decir.\n",
        "\n",
        "¿Qué tipo de aprendizaje sería ideal para predecir la deserción estudiantil en una universidad?\n",
        "\n",
        "El aprendizaje supervisado\n",
        "\n",
        "¿Por qué?\n",
        "\n",
        "Porque con datos ya etiquetados (como si un estudiante desertó o no), se pueden aplicar modelos de clasificación que aprendan esos patrones y predigan nuevos casos basándose en la experiencia previa.\n"
      ],
      "metadata": {
        "id": "swKdaFW9s-fy"
      }
    }
  ]
}