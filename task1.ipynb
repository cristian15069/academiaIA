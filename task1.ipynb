{
  "nbformat": 4,
  "nbformat_minor": 0,
  "metadata": {
    "colab": {
      "provenance": [],
      "authorship_tag": "ABX9TyNXSTj/SFXxOiElpdJodc+m"
    },
    "kernelspec": {
      "name": "python3",
      "display_name": "Python 3"
    },
    "language_info": {
      "name": "python"
    }
  },
  "cells": [
    {
      "cell_type": "code",
      "execution_count": null,
      "metadata": {
        "id": "VrkW_doRstTi"
      },
      "outputs": [],
      "source": []
    },
    {
      "cell_type": "markdown",
      "source": [
        "Ejercicio 1 - **Conceptos **\n",
        "\n",
        "\n",
        "La Inteligencia Artificial es básicamente el intento de que una máquina razone, actúe o decida como lo haría una persona.\n",
        "\n",
        "El Machine Learning permite que las máquinas aprendan algoritmos o patrones a partir de datos sin necesidad de instrucciones explícitas.\n",
        "\n",
        "El Procesamiento de Lenguaje Natural trata más de cómo entender y generar lenguaje humano, interpretando contexto, intención y significado.\n",
        "\n",
        "¿Qué tipo de aprendizaje sería ideal para predecir la deserción estudiantil en una universidad?\n",
        "\n",
        "El aprendizaje supervisado\n",
        "\n",
        "¿Por qué?\n",
        "\n",
        "Porque se puede usar técnicas tipo clasificación, ya que se basa en datos etiquetados (estudiantes que desertaron o no) para aprender patrones y predecir basandose en esos resultados .\n"
      ],
      "metadata": {
        "id": "swKdaFW9s-fy"
      }
    }
  ]
}