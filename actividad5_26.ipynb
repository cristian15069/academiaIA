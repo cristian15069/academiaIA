{
  "nbformat": 4,
  "nbformat_minor": 0,
  "metadata": {
    "colab": {
      "provenance": [],
      "authorship_tag": "ABX9TyN6DjctWoVmLctQOxjBMZ2p",
      "include_colab_link": true
    },
    "kernelspec": {
      "name": "python3",
      "display_name": "Python 3"
    },
    "language_info": {
      "name": "python"
    }
  },
  "cells": [
    {
      "cell_type": "markdown",
      "metadata": {
        "id": "view-in-github",
        "colab_type": "text"
      },
      "source": [
        "<a href=\"https://colab.research.google.com/github/cristian15069/academiaIA/blob/main/actividad5_26.ipynb\" target=\"_parent\"><img src=\"https://colab.research.google.com/assets/colab-badge.svg\" alt=\"Open In Colab\"/></a>"
      ]
    },
    {
      "cell_type": "markdown",
      "source": [
        "CLASES NO BALANCEADAS\n",
        "\n",
        "Clasificación de eventos astronómicos raros en datos de telescopios\n",
        "\n",
        "  - En astronomía, la detección de eventos raros como supernovas enfrenta un fuerte desbalance de clases, ya que ocurren en una proporción mínima frente al volumen total de datos capturados por los telescopios.\n",
        "\n",
        "\n",
        "Matriz de confusion\n",
        "\n",
        "  - Se encarga de la evaluacion de modelos de clasificacion , permitiendonos ver cual es el desempeño del modelo visualizada en una tabkla .\n",
        "\n",
        "- Verdaderos positivos (TP): predicciones correctas de la clase positiva.\n",
        "\n",
        "- Falsos positivos (FP): predicciones incorrectas donde se predijo positivo, pero era negativo.\n",
        "\n",
        "- Falsos negativos (FN): se predijo negativo, pero era positivo.\n",
        "\n",
        "Verdaderos negativos (TN): predicciones correctas de la clase negativa.\n",
        "\n",
        "1.   Permite derivar métricas clave: precisión, recall, F1-score, especificidad, etc.\n",
        "\n",
        "2.   Es especialmente útil en problemas desbalanceados, donde la exactitud por sí sola puede ser engañosa.\n",
        "\n",
        "3.   Ayuda a identificar tipos específicos de errores, crucial en aplicaciones críticas (como medicina o seguridad).\n",
        "\n",
        "MATRIZ DE CONFUSION METRICA\n",
        "\n",
        "  Exatitud : Las predicciones que fueron correctas en general.\n",
        "\n",
        "  Precision : De todas las veces que se predijo positivo ,el total de las que fueron correctas.\n",
        "\n",
        "  Sensibilidad : De todos los positivos reales , cuantos se detectaron.\n",
        "\n",
        "  Especificidad : también conocida como tasa negativa real (TNR).\n",
        "\n",
        "  Puntuacion F1: es una medida de la precisión de una prueba, es la media armónica de precisión y recuperación.\n",
        "\n",
        "\n",
        "REFERENCIAS\n",
        "\n",
        "- https://www.ibm.com/mx-es/think/topics/confusion-matrix\n",
        "\n",
        "- https://developers.google.com/machine-learning/crash-course/classification/thresholding?hl=es-419\n",
        "\n",
        "- https://www.datasource.ai/es/data-science-articles/comprension-de-la-matriz-de-confusion-y-como-implementarla-en-python\n",
        "\n",
        "\n",
        "\n",
        "Calcular presicion , sensibilidad y especificidad\n",
        "\n",
        "    Precisión = TP / TP + FP = 412 /412 + 256 =  412/668 = 0.6167(61.67%)\n",
        "\n",
        "    Sensibilidad =TP / TP + FN = 412 / 412 + 17 =  412 / 429= 0.9603(96.03%)\n",
        "\n",
        "    Especificidad = TN / TN + FP  = 2137 / 2137 + 256 = 2137 / 2393 = 0.8930 (89.30%)"
      ],
      "metadata": {
        "id": "g39pBIlYmzGZ"
      }
    }
  ]
}