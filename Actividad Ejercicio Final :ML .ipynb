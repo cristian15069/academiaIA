{
  "nbformat": 4,
  "nbformat_minor": 0,
  "metadata": {
    "colab": {
      "provenance": [],
      "authorship_tag": "ABX9TyPJESj12QFSQ4F/0Uskx6hp",
      "include_colab_link": true
    },
    "kernelspec": {
      "name": "python3",
      "display_name": "Python 3"
    },
    "language_info": {
      "name": "python"
    }
  },
  "cells": [
    {
      "cell_type": "markdown",
      "metadata": {
        "id": "view-in-github",
        "colab_type": "text"
      },
      "source": [
        "<a href=\"https://colab.research.google.com/github/cristian15069/academiaIA/blob/main/Actividad%20Ejercicio%20Final%20%3AML%20.ipynb\" target=\"_parent\"><img src=\"https://colab.research.google.com/assets/colab-badge.svg\" alt=\"Open In Colab\"/></a>"
      ]
    },
    {
      "cell_type": "markdown",
      "source": [
        "**Inteligencia Artificial y Aprendizaje Automático\n",
        "Semillero IA & Data\n",
        "Actividad Ejercicio Final : – ML regresión logística y Métricas de desempeño- Riesgo Crediticio**"
      ],
      "metadata": {
        "id": "XYBBPawJHalV"
      }
    },
    {
      "cell_type": "code",
      "execution_count": 15,
      "metadata": {
        "id": "BAy8SisLHWSm"
      },
      "outputs": [],
      "source": [
        "import pandas as pd\n",
        "from sklearn.model_selection import train_test_split\n",
        "from sklearn.pipeline import Pipeline\n",
        "from sklearn.compose import ColumnTransformer\n",
        "from sklearn.preprocessing import StandardScaler, OneHotEncoder\n",
        "from sklearn.impute import SimpleImputer\n",
        "\n",
        "url = \"https://archive.ics.uci.edu/ml/machine-learning-databases/statlog/german/german.data\"\n",
        "\n",
        "column_names = [\n",
        "    'estatus_cheque', 'duracion', 'historial_credito', 'proposito', 'monto',\n",
        "    'ahorros', 'empleo', 'cuota_mensual', 'estado_civil_sexo',\n",
        "    'otros_deudores', 'tiempo_residencia', 'propiedad', 'edad',\n",
        "    'otras_obligaciones', 'vivienda', 'empleados_dependientes',\n",
        "    'telefono', 'trabajador_extranjero', 'kredit'\n",
        "]\n",
        "\n",
        "df = pd.read_csv(url, sep='\\s+', header=None, names=column_names)\n",
        "\n",
        "X = df.drop('kredit', axis=1)\n",
        "y = df['kredit']\n",
        "\n",
        "X_train, X_test, y_train, y_test = train_test_split(\n",
        "    X, y, test_size=0.15, random_state=42, stratify=y\n",
        ")\n",
        "\n",
        "num_vars = ['duracion', 'monto', 'edad']\n",
        "bins_vars = ['telefono', 'trabajador_extranjero']\n",
        "cat_vars = ['estatus_cheque', 'historial_credito', 'proposito', 'ahorros',\n",
        "            'empleo', 'estado_civil_sexo', 'otros_deudores',\n",
        "            'propiedad', 'empleados_dependientes', 'vivienda']\n",
        "ord_vars = ['empleo', 'cuota_mensual', 'tiempo_residencia']\n",
        "\n",
        "# Pipelines para cada tipo de variable\n",
        "\n",
        "numeric_transformer = Pipeline(steps=[\n",
        "    ('imputer', SimpleImputer(strategy='mean')),\n",
        "    ('scaler', StandardScaler())\n",
        "])\n",
        "\n",
        "categorical_transformer = Pipeline(steps=[\n",
        "    ('imputer', SimpleImputer(strategy='most_frequent')),\n",
        "    ('onehot', OneHotEncoder(handle_unknown='ignore'))\n",
        "])\n",
        "\n",
        "binary_transformer = Pipeline(steps=[\n",
        "    ('imputer', SimpleImputer(strategy='most_frequent'))\n",
        "])\n",
        "\n",
        "ordinal_transformer = Pipeline(steps=[\n",
        "    ('imputer', SimpleImputer(strategy='most_frequent'))\n",
        "])\n",
        "\n",
        "preprocessor = ColumnTransformer(\n",
        "    transformers=[\n",
        "        ('num', numeric_transformer, num_vars),\n",
        "        ('cat', categorical_transformer, cat_vars),\n",
        "        ('bin', binary_transformer, bins_vars),\n",
        "        ('ord', ordinal_transformer, ord_vars)\n",
        "    ]\n",
        ")\n",
        "\n"
      ]
    },
    {
      "cell_type": "markdown",
      "source": [],
      "metadata": {
        "id": "tVYdRcIBP9H8"
      }
    },
    {
      "cell_type": "markdown",
      "source": [],
      "metadata": {
        "id": "sdznJaonP9HA"
      }
    }
  ]
}