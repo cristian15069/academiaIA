{
  "nbformat": 4,
  "nbformat_minor": 0,
  "metadata": {
    "colab": {
      "provenance": [],
      "authorship_tag": "ABX9TyOP3OqM2OQtPMLYGCtyMk6c",
      "include_colab_link": true
    },
    "kernelspec": {
      "name": "python3",
      "display_name": "Python 3"
    },
    "language_info": {
      "name": "python"
    }
  },
  "cells": [
    {
      "cell_type": "markdown",
      "metadata": {
        "id": "view-in-github",
        "colab_type": "text"
      },
      "source": [
        "<a href=\"https://colab.research.google.com/github/cristian15069/academiaIA/blob/main/task5%20modelo%2005-22.ipynb\" target=\"_parent\"><img src=\"https://colab.research.google.com/assets/colab-badge.svg\" alt=\"Open In Colab\"/></a>"
      ]
    },
    {
      "cell_type": "markdown",
      "source": [
        "Modelo de prediccion en box\n",
        "\n",
        "Factor en y (lo que se predice)\n",
        "\n",
        "*   Probabilidad de ganar - Estimacion basada en factores previos.\n",
        "\n",
        "Factores en X (lo que influye)\n",
        "\n",
        "*   Edad\n",
        "*   Experiencia\n",
        "*   Frecuencia de golpeo\n",
        "*   KO's\n",
        "*   Victorias\n",
        "*   Rendimiento"
      ],
      "metadata": {
        "id": "_JbGqHtxBI6x"
      }
    }
  ]
}