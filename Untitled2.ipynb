{
  "nbformat": 4,
  "nbformat_minor": 0,
  "metadata": {
    "colab": {
      "provenance": [],
      "authorship_tag": "ABX9TyPE67GcEP6R9WWZk7qfi90Q",
      "include_colab_link": true
    },
    "kernelspec": {
      "name": "python3",
      "display_name": "Python 3"
    },
    "language_info": {
      "name": "python"
    }
  },
  "cells": [
    {
      "cell_type": "markdown",
      "metadata": {
        "id": "view-in-github",
        "colab_type": "text"
      },
      "source": [
        "<a href=\"https://colab.research.google.com/github/cristian15069/academiaIA/blob/main/Untitled2.ipynb\" target=\"_parent\"><img src=\"https://colab.research.google.com/assets/colab-badge.svg\" alt=\"Open In Colab\"/></a>"
      ]
    },
    {
      "cell_type": "markdown",
      "source": [
        "**CLASE 1 NLP - CRISTIAN ALBERTO GARCIA GARCIA 29/05/25**\n",
        "\n",
        "\n",
        "¿Que es NLP?\n",
        "Es una rama de la inteligencia artificial que se encarga de permitir a las maquinas comprender , interpretar y generar lenguaje humano.\n",
        "\n",
        "Su uso es fundamental para analizar los datos de texto y voz de manera eficiente y en profundidad.\n",
        "\n",
        "Se utiliza para tareas automatizadas por ejemplo\n",
        "\n",
        "    - procesar , analizar y archivar documentos grandes\n",
        "    - Analizar los comentarios de los clientes o las grabaciones de centros de atención telefónica.\n",
        "    - Ejecutar chatbots para ofrecer un servicio al cliente automatizado.\n",
        "\n",
        "Caracteristicas\n",
        "\n",
        "    -Comprension del lenguaje humano\n",
        "    -Ambiguedad y contexto\n",
        "    -Estructura linguistica\n",
        "    -Aprendizaje automatic\n",
        "    -Tareas tipicas de NPL\n",
        "\n",
        "\n"
      ],
      "metadata": {
        "id": "eGYMx4L7CyyC"
      }
    },
    {
      "cell_type": "code",
      "execution_count": null,
      "metadata": {
        "id": "eODleQa23Gm7"
      },
      "outputs": [],
      "source": []
    }
  ]
}